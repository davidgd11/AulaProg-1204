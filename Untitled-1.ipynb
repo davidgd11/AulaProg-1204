{
 "cells": [
  {
   "cell_type": "code",
   "execution_count": 5,
   "metadata": {},
   "outputs": [
    {
     "name": "stdout",
     "output_type": "stream",
     "text": [
      "8\n"
     ]
    }
   ],
   "source": [
    "tripo = lambda x: x**3\n",
    "print(tripo(2))"
   ]
  },
  {
   "cell_type": "code",
   "execution_count": 7,
   "metadata": {},
   "outputs": [
    {
     "name": "stdout",
     "output_type": "stream",
     "text": [
      "Nome: David\n",
      "Sobrenome: Denunci\n"
     ]
    }
   ],
   "source": [
    "nome_completo = lambda nome, sobrenome: f'Nome: {nome}\\nSobrenome: {sobrenome}'\n",
    "print(nome_completo('David', 'Denunci'))"
   ]
  },
  {
   "cell_type": "code",
   "execution_count": 16,
   "metadata": {},
   "outputs": [
    {
     "name": "stdout",
     "output_type": "stream",
     "text": [
      "False\n",
      "True\n"
     ]
    }
   ],
   "source": [
    "comeca_com_g = lambda x: True if x.startswith('G') else False\n",
    "print(comeca_com_g('David'))\n",
    "print(comeca_com_g('Guilherme'))"
   ]
  },
  {
   "cell_type": "code",
   "execution_count": 22,
   "metadata": {},
   "outputs": [
    {
     "name": "stdout",
     "output_type": "stream",
     "text": [
      "criança\n",
      "adolescente\n",
      "adulto\n"
     ]
    }
   ],
   "source": [
    "classifica_idade = lambda idade: 'criança' if idade < 13 else ('adolescente' if idade <18 else 'adulto')\n",
    "print(classifica_idade(10))\n",
    "print(classifica_idade(15))\n",
    "print(classifica_idade(20))"
   ]
  },
  {
   "cell_type": "code",
   "execution_count": null,
   "metadata": {},
   "outputs": [],
   "source": [
    "\"\"\"\n",
    "1. Crie um algoritmo para calcular uma equação do primeiro grau\n",
    "Equação - 10x * 5\n",
    "\n",
    "2. Crie um algoritmo para calcular a força em newtons usando as duas variáveis\n",
    "massa e aceleração (F = m * a)  \n",
    "\n",
    "3. Crie um algoritmo para calcular a temperatura em graus (Celsius) e Fahenreit (F) usando as variáveis temp, escala.\n",
    "\n",
    "Converter C em F é: (temp - 32) * (5/9)\n",
    "Converter F em C é: (temp * 5/9) + 32\n",
    "\"\"\""
   ]
  },
  {
   "cell_type": "code",
   "execution_count": 23,
   "metadata": {},
   "outputs": [
    {
     "name": "stdout",
     "output_type": "stream",
     "text": [
      "100\n"
     ]
    }
   ],
   "source": [
    "#1\n",
    "equacao = lambda x: (10*x) * 5\n",
    "print(equacao(2))"
   ]
  },
  {
   "cell_type": "code",
   "execution_count": 24,
   "metadata": {},
   "outputs": [
    {
     "name": "stdout",
     "output_type": "stream",
     "text": [
      "6\n"
     ]
    }
   ],
   "source": [
    "#2\n",
    "calcular_forca = lambda massa, aceleracao: massa * aceleracao\n",
    "print(calcular_forca(2, 3))"
   ]
  },
  {
   "cell_type": "code",
   "execution_count": 25,
   "metadata": {},
   "outputs": [
    {
     "name": "stdout",
     "output_type": "stream",
     "text": [
      "43.111111111111114\n",
      "37.77777777777778\n",
      "Escala Inválida\n"
     ]
    }
   ],
   "source": [
    "#3\n",
    "converter_temperatura = lambda temp, escala: (temp * 5/9) + 32 if escala == 'C' else (temp - 32) * (5/9) if escala == 'F' else 'Escala Inválida'\n",
    "\n",
    "print(converter_temperatura(20, 'C'))\n",
    "print(converter_temperatura(100, 'F'))\n",
    "print(converter_temperatura(20, 'K'))\n"
   ]
  },
  {
   "cell_type": "code",
   "execution_count": 26,
   "metadata": {},
   "outputs": [
    {
     "name": "stdout",
     "output_type": "stream",
     "text": [
      "9\n"
     ]
    }
   ],
   "source": [
    "\"\"\"\n",
    "4. Função que cria uma função \n",
    "Utilizar função def chamando parametros a,b e c\n",
    "Retornar a função lambda como parametro x & a, b & c\n",
    "Testar a função\n",
    "\"\"\"\n",
    "\n",
    "def construcao_quadratica(a, b, c):\n",
    "    return lambda x: (a * x ** 2) + (x * b) + c \n",
    "\n",
    "f = construcao_quadratica(2, 3, -5)\n",
    "print(f(2))"
   ]
  },
  {
   "cell_type": "code",
   "execution_count": 27,
   "metadata": {},
   "outputs": [
    {
     "name": "stdout",
     "output_type": "stream",
     "text": [
      "16\n"
     ]
    }
   ],
   "source": [
    "\"\"\"\n",
    "Crie uma função de uma função para calcular o resultado final de uma equação do primeiro grau, de tal forma \n",
    "que a função def tenha dois parâmetros e a função lambda um parâmetro. \n",
    "\n",
    "Crie um programa para retornar uma função para calcular a média ponderada. \n",
    "\"\"\"\n",
    "def funcao_p_grau(a, b):\n",
    "    #Retornar uma função de primeiro grau\n",
    "    return lambda x: (a * x) + (x * 6)\n",
    "\n",
    "f = funcao_p_grau(2, 3)\n",
    "\n",
    "print(f(2))\n"
   ]
  },
  {
   "cell_type": "code",
   "execution_count": 29,
   "metadata": {},
   "outputs": [
    {
     "data": {
      "text/plain": [
       "2.6"
      ]
     },
     "execution_count": 29,
     "metadata": {},
     "output_type": "execute_result"
    }
   ],
   "source": [
    "def media_ponderada (peso1, peso2): \n",
    "    return lambda x,y: (x*peso1 + y*peso2) / (peso1 + peso2)\n",
    "\n",
    "resultado = media_ponderada(4,6)\n",
    "\n",
    "result_media_ponderada = resultado (2,3)\n",
    "result_media_ponderada"
   ]
  }
 ],
 "metadata": {
  "kernelspec": {
   "display_name": "Python 3",
   "language": "python",
   "name": "python3"
  },
  "language_info": {
   "codemirror_mode": {
    "name": "ipython",
    "version": 3
   },
   "file_extension": ".py",
   "mimetype": "text/x-python",
   "name": "python",
   "nbconvert_exporter": "python",
   "pygments_lexer": "ipython3",
   "version": "3.11.4"
  },
  "orig_nbformat": 4
 },
 "nbformat": 4,
 "nbformat_minor": 2
}
